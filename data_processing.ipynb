{
 "cells": [
  {
   "cell_type": "code",
   "execution_count": 25,
   "metadata": {},
   "outputs": [],
   "source": [
    "import os\n",
    "import pandas as pd"
   ]
  },
  {
   "cell_type": "code",
   "execution_count": 26,
   "metadata": {},
   "outputs": [
    {
     "data": {
      "text/plain": [
       "['74710_195405.csv', '74717_201806.csv']"
      ]
     },
     "execution_count": 26,
     "metadata": {},
     "output_type": "execute_result"
    }
   ],
   "source": [
    "filenames = os.listdir('data')\n",
    "filenames = [filename for filename in filenames if filename.endswith('.csv')]\n",
    "filenames"
   ]
  },
  {
   "cell_type": "code",
   "execution_count": 27,
   "metadata": {},
   "outputs": [
    {
     "data": {
      "text/html": [
       "<div>\n",
       "<style scoped>\n",
       "    .dataframe tbody tr th:only-of-type {\n",
       "        vertical-align: middle;\n",
       "    }\n",
       "\n",
       "    .dataframe tbody tr th {\n",
       "        vertical-align: top;\n",
       "    }\n",
       "\n",
       "    .dataframe thead th {\n",
       "        text-align: right;\n",
       "    }\n",
       "</style>\n",
       "<table border=\"1\" class=\"dataframe\">\n",
       "  <thead>\n",
       "    <tr style=\"text-align: right;\">\n",
       "      <th></th>\n",
       "      <th>date</th>\n",
       "      <th>party</th>\n",
       "      <th>text</th>\n",
       "    </tr>\n",
       "  </thead>\n",
       "  <tbody>\n",
       "    <tr>\n",
       "      <th>0</th>\n",
       "      <td>195405</td>\n",
       "      <td>74710</td>\n",
       "      <td>CUMHURİYETÇİ  Millet Partisi Program Ankara  1...</td>\n",
       "    </tr>\n",
       "    <tr>\n",
       "      <th>1</th>\n",
       "      <td>201806</td>\n",
       "      <td>74717</td>\n",
       "      <td>A. Durum Tespiti: “Yeni Bir İktidara İhtiyaç V...</td>\n",
       "    </tr>\n",
       "  </tbody>\n",
       "</table>\n",
       "</div>"
      ],
      "text/plain": [
       "     date  party                                               text\n",
       "0  195405  74710  CUMHURİYETÇİ  Millet Partisi Program Ankara  1...\n",
       "1  201806  74717  A. Durum Tespiti: “Yeni Bir İktidara İhtiyaç V..."
      ]
     },
     "execution_count": 27,
     "metadata": {},
     "output_type": "execute_result"
    }
   ],
   "source": [
    "df_processed = pd.DataFrame(columns=[\"date\", \"party\", \"text\"])\n",
    "\n",
    "for filename in filenames:\n",
    "    df = pd.read_csv('data/' + filename)\n",
    "    text_list = df['text'].tolist()\n",
    "    text = ' '.join(text_list)\n",
    "    party, date = filename.split('.')[0].split('_')\n",
    "    df_processed = pd.concat([df_processed, pd.DataFrame([[date, party, text]], columns=[\"date\", \"party\", \"text\"])], ignore_index=True)\n",
    "\n",
    "\n",
    "df_processed"
   ]
  }
 ],
 "metadata": {
  "kernelspec": {
   "display_name": "base",
   "language": "python",
   "name": "python3"
  },
  "language_info": {
   "codemirror_mode": {
    "name": "ipython",
    "version": 3
   },
   "file_extension": ".py",
   "mimetype": "text/x-python",
   "name": "python",
   "nbconvert_exporter": "python",
   "pygments_lexer": "ipython3",
   "version": "3.10.8"
  },
  "orig_nbformat": 4
 },
 "nbformat": 4,
 "nbformat_minor": 2
}
